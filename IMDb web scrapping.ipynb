{
 "cells": [
  {
   "cell_type": "code",
   "execution_count": 54,
   "id": "7fb4a4e4",
   "metadata": {},
   "outputs": [],
   "source": [
    "import requests, openpyxl\n",
    "import pandas as pd\n",
    "import seaborn as sns\n",
    "import matplotlib.pyplot as plt\n",
    "import bs4\n",
    "from bs4 import BeautifulSoup"
   ]
  },
  {
   "cell_type": "code",
   "execution_count": 33,
   "id": "9ff0ec6a",
   "metadata": {
    "scrolled": true
   },
   "outputs": [
    {
     "name": "stdout",
     "output_type": "stream",
     "text": [
      "['Sheet']\n",
      "['Top Rated Movies']\n",
      "Black Adam 2022 7.1\n",
      "Halloween Ends 2022 5.0\n",
      "Terrifier 2 2022 6.6\n",
      "The School for Good and Evil 2022 5.9\n",
      "Smile 2022 6.9\n",
      "Luckiest Girl Alive 2022 6.4\n",
      "Creed III 2023 \n",
      "Terrifier 2016 5.6\n",
      "Bullet Train 2022 7.3\n",
      "The Curse of Bridge Hollow 2022 5.6\n",
      "Hellraiser 2022 6.0\n",
      "The Stranger 2022 6.6\n",
      "Hocus Pocus 1993 6.9\n",
      "Amsterdam 2022 6.2\n",
      "Hocus Pocus 2 2022 6.1\n",
      "X 2022 6.6\n",
      "Kantara 2022 9.3\n",
      "Black Panther: Wakanda Forever 2022 \n",
      "Don't Worry Darling 2022 6.2\n",
      "Halloween 1978 7.7\n",
      "Rosaline 2022 6.4\n",
      "Top Gun: Maverick 2022 8.4\n",
      "Blonde 2022 5.5\n",
      "The Banshees of Inisherin 2022 8.3\n",
      "Ticket to Paradise 2022 6.4\n",
      "Blackout 2022 3.8\n",
      "Mr. Harrigan's Phone 2022 6.0\n",
      "Spirited 2022 \n",
      "Pearl 2022 7.2\n",
      "Triangle of Sadness 2022 7.9\n",
      "Bros 2022 6.4\n",
      "The Woman King 2022 6.7\n",
      "Barbarian 2022 7.5\n",
      "Halloween Kills 2021 5.5\n",
      "Watcher 2022 6.3\n",
      "Halloween 2018 6.5\n",
      "Everything Everywhere All at Once 2022 8.1\n",
      "Thor: Love and Thunder 2022 6.4\n",
      "The Northman 2022 7.1\n",
      "Fall 2022 6.4\n",
      "Harry Potter and the Sorcerer's Stone 2001 7.6\n",
      "The Lord of the Rings: The Fellowship of the Ring 2001 8.8\n",
      "Nope 2022 6.9\n",
      "A Christmas Story Christmas 2022 \n",
      "Where the Crawdads Sing 2022 7.1\n",
      "Hellraiser 1987 6.9\n",
      "Grimcutty 2022 4.3\n",
      "Avatar: The Way of Water 2022 \n",
      "M3GAN 2023 \n",
      "Clerks III 2022 6.5\n",
      "Glass Onion: A Knives Out Mystery 2022 8.1\n",
      "Beetle Juice 1988 7.5\n",
      "The Black Phone 2021 7.0\n",
      "Elvis 2022 7.4\n",
      "Tár 2022 8.2\n",
      "The Legend of Maula Jatt 2022 9.0\n",
      "The Super Mario Bros. Movie 2023 \n",
      "Lyle, Lyle, Crocodile 2022 6.4\n",
      "The Batman 2022 7.9\n",
      "Top Gun 1986 6.9\n",
      "Midsommar 2019 7.1\n",
      "Lou 2022 6.1\n",
      "Im Westen nichts Neues 2022 8.1\n",
      "V/H/S/99 2022 5.3\n",
      "Dobaaraa 2022 4.0\n",
      "A Man Called Otto 2022 \n",
      "The Munsters 2022 4.6\n",
      "The Shawshank Redemption 1994 9.3\n",
      "Raymond & Ray 2022 6.3\n",
      "Jeepers Creepers: Reborn 2022 2.5\n",
      "The Greatest Beer Run Ever 2022 6.8\n",
      "Joker: Folie à Deux 2024 \n",
      "Doctor G 2022 7.6\n",
      "Old Man 2022 4.8\n",
      "Bodies Bodies Bodies 2022 6.3\n",
      "DC League of Super-Pets 2022 7.3\n",
      "The Godfather 1972 9.2\n",
      "Medieval 2022 5.9\n",
      "Uncharted 2022 6.3\n",
      "Cerdita 2022 6.2\n",
      "Ponniyin Selvan: I 2022 8.3\n",
      "Knives Out 2019 7.9\n",
      "The Whale 2022 8.7\n",
      "The Nightmare Before Christmas 1993 7.9\n",
      "Prey 2022 7.2\n",
      "Halloween 2007 6.0\n",
      "Women Talking 2022 7.8\n",
      "Roald Dahl's Matilda the Musical 2022 6.4\n",
      "Do Revenge 2022 6.3\n",
      "Poltergeist 1982 7.3\n",
      "Scream 2022 6.3\n",
      "Heojil kyolshim 2022 7.3\n",
      "Jurassic World Dominion 2022 5.7\n",
      "Spider-Man: No Way Home 2021 8.3\n",
      "American Psycho 2000 7.6\n",
      "Catherine Called Birdy 2022 6.5\n",
      "Last Seen Alive 2022 5.6\n",
      "Significant Other 2022 5.7\n",
      "Gisaengchung 2019 8.5\n",
      "The Gray Man 2022 6.5\n"
     ]
    }
   ],
   "source": [
    "excel = openpyxl.Workbook()\n",
    "print(excel.sheetnames)\n",
    "sheet = excel.active\n",
    "sheet.title = 'Top Rated Movies'\n",
    "print(excel.sheetnames)\n",
    "sheet.append(['Movie Name','Year','IMDb Rating'])\n",
    "\n",
    "try:\n",
    "    source = requests.get('https://www.imdb.com/chart/moviemeter/?ref_=nv_mv_mpm')\n",
    "    source.raise_for_status()\n",
    "    soup = BeautifulSoup(source.text,'html.parser')\n",
    "    movies = soup.find('tbody',class_ = 'lister-list').find_all('tr')\n",
    "    for movie in movies:\n",
    "        name = movie.find('td', class_='titleColumn').a.text\n",
    "        #rank = movie.find('td', class_='titleColumn').get_text(strip=True).strip('()').split(' ')\n",
    "        year = movie.find('td', class_='titleColumn').span.text.strip('()')\n",
    "        rating = movie.find('td', class_='ratingColumn imdbRating').text.strip('\\n')\n",
    "        print(name,year,rating)\n",
    "        sheet.append([name,year,rating])\n",
    "    \n",
    "except Exception as e:\n",
    "    print(e)\n",
    "excel.save('IMDb Movies.xlsx')"
   ]
  },
  {
   "cell_type": "code",
   "execution_count": 44,
   "id": "5c3e5165",
   "metadata": {},
   "outputs": [
    {
     "name": "stdout",
     "output_type": "stream",
     "text": [
      "                      Movie Name  Year  IMDb Rating\n",
      "0                     Black Adam  2022          7.1\n",
      "1                 Halloween Ends  2022          5.0\n",
      "2                    Terrifier 2  2022          6.6\n",
      "3   The School for Good and Evil  2022          5.9\n",
      "4                          Smile  2022          6.9\n",
      "..                           ...   ...          ...\n",
      "95        Catherine Called Birdy  2022          6.5\n",
      "96               Last Seen Alive  2022          5.6\n",
      "97             Significant Other  2022          5.7\n",
      "98                  Gisaengchung  2019          8.5\n",
      "99                  The Gray Man  2022          6.5\n",
      "\n",
      "[100 rows x 3 columns]\n"
     ]
    }
   ],
   "source": [
    "df = pd.read_excel(r'C:\\Users\\muhda\\Downloads\\pythonproject\\IMDb Movies.xlsx')\n",
    "print(df)"
   ]
  },
  {
   "cell_type": "code",
   "execution_count": 45,
   "id": "8a2635f0",
   "metadata": {},
   "outputs": [
    {
     "data": {
      "text/plain": [
       "Movie Name      object\n",
       "Year             int64\n",
       "IMDb Rating    float64\n",
       "dtype: object"
      ]
     },
     "execution_count": 45,
     "metadata": {},
     "output_type": "execute_result"
    }
   ],
   "source": [
    "df.dtypes"
   ]
  },
  {
   "cell_type": "code",
   "execution_count": 46,
   "id": "4bba887b",
   "metadata": {},
   "outputs": [
    {
     "data": {
      "text/html": [
       "<div>\n",
       "<style scoped>\n",
       "    .dataframe tbody tr th:only-of-type {\n",
       "        vertical-align: middle;\n",
       "    }\n",
       "\n",
       "    .dataframe tbody tr th {\n",
       "        vertical-align: top;\n",
       "    }\n",
       "\n",
       "    .dataframe thead th {\n",
       "        text-align: right;\n",
       "    }\n",
       "</style>\n",
       "<table border=\"1\" class=\"dataframe\">\n",
       "  <thead>\n",
       "    <tr style=\"text-align: right;\">\n",
       "      <th></th>\n",
       "      <th>Movie Name</th>\n",
       "      <th>Year</th>\n",
       "      <th>IMDb Rating</th>\n",
       "    </tr>\n",
       "  </thead>\n",
       "  <tbody>\n",
       "    <tr>\n",
       "      <th>16</th>\n",
       "      <td>Kantara</td>\n",
       "      <td>2022</td>\n",
       "      <td>9.3</td>\n",
       "    </tr>\n",
       "    <tr>\n",
       "      <th>55</th>\n",
       "      <td>The Legend of Maula Jatt</td>\n",
       "      <td>2022</td>\n",
       "      <td>9.0</td>\n",
       "    </tr>\n",
       "  </tbody>\n",
       "</table>\n",
       "</div>"
      ],
      "text/plain": [
       "                  Movie Name  Year  IMDb Rating\n",
       "16                   Kantara  2022          9.3\n",
       "55  The Legend of Maula Jatt  2022          9.0"
      ]
     },
     "execution_count": 46,
     "metadata": {},
     "output_type": "execute_result"
    }
   ],
   "source": [
    "df[(df['IMDb Rating'] >= 9.0) & (df.Year == 2022)]"
   ]
  },
  {
   "cell_type": "code",
   "execution_count": 61,
   "id": "6d8821d9",
   "metadata": {},
   "outputs": [
    {
     "data": {
      "image/png": "[encoded data removed]",
      "text/plain": [
       "<Figure size 576x720 with 1 Axes>"
      ]
     },
     "metadata": {
      "needs_background": "light"
     },
     "output_type": "display_data"
    }
   ],
   "source": [
    "plt.figure(figsize=(8,10))\n",
    "sns.countplot(y=\"IMDb Rating\", data=df,label=\"Number of cars by brand\",palette='Blues_r',order=df['IMDb Rating'].value_counts().index)\n",
    "plt.show()"
   ]
  },
  {
   "cell_type": "code",
   "execution_count": null,
   "id": "2d1aa0c8",
   "metadata": {},
   "outputs": [],
   "source": []
  }
 ],
 "metadata": {
  "kernelspec": {
   "display_name": "Python 3 (ipykernel)",
   "language": "python",
   "name": "python3"
  },
  "language_info": {
   "codemirror_mode": {
    "name": "ipython",
    "version": 3
   },
   "file_extension": ".py",
   "mimetype": "text/x-python",
   "name": "python",
   "nbconvert_exporter": "python",
   "pygments_lexer": "ipython3",
   "version": "3.9.12"
  }
 },
 "nbformat": 4,
 "nbformat_minor": 5
}
